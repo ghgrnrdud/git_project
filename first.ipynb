{
 "cells": [
  {
   "cell_type": "code",
   "execution_count": 1,
   "id": "424273e1-70aa-4442-8b48-339851dde91e",
   "metadata": {},
   "outputs": [
    {
     "name": "stdout",
     "output_type": "stream",
     "text": [
      "member1이 작업함\n"
     ]
    }
   ],
   "source": [
    "print(\"member1이 작업함\")"
   ]
  },
  {
   "cell_type": "code",
   "execution_count": 7,
   "id": "ef55fd34-5ef2-4b31-a98d-63f52647c7b9",
   "metadata": {},
   "outputs": [
    {
     "name": "stdout",
     "output_type": "stream",
     "text": [
      "member1이 또 작업함\n"
     ]
    }
   ],
   "source": [
    "print('member1이 또 작업함')"
   ]
  },
  {
   "cell_type": "code",
   "execution_count": 6,
   "id": "f122980b-7d8e-4baa-88c6-a56500657d2d",
   "metadata": {},
   "outputs": [
    {
     "name": "stdout",
     "output_type": "stream",
     "text": [
      "현재 내가 작업하고 잇음\n"
     ]
    }
   ],
   "source": [
    "print(\"현재 내가 작업하고 잇음\")"
   ]
  },
  {
   "cell_type": "code",
   "execution_count": null,
   "id": "15b8a438-9666-43fe-94c9-06efeac53285",
   "metadata": {},
   "outputs": [],
   "source": [
    "print(\"제가 지금 뭐하고 있는건가요\")"
   ]
  }
 ],
 "metadata": {
  "kernelspec": {
   "display_name": "Python 3 (ipykernel)",
   "language": "python",
   "name": "python3"
  },
  "language_info": {
   "codemirror_mode": {
    "name": "ipython",
    "version": 3
   },
   "file_extension": ".py",
   "mimetype": "text/x-python",
   "name": "python",
   "nbconvert_exporter": "python",
   "pygments_lexer": "ipython3",
   "version": "3.11.5"
  }
 },
 "nbformat": 4,
 "nbformat_minor": 5
}
