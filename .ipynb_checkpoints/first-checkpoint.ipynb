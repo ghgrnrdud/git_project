{
 "cells": [
  {
   "cell_type": "code",
   "execution_count": 1,
   "id": "424273e1-70aa-4442-8b48-339851dde91e",
   "metadata": {},
   "outputs": [
    {
     "name": "stdout",
     "output_type": "stream",
     "text": [
      "member1이 작업함\n"
     ]
    }
   ],
   "source": [
    "print(\"member1이 작업함\")"
   ]
  },
  {
   "cell_type": "code",
   "execution_count": 5,
   "id": "ef55fd34-5ef2-4b31-a98d-63f52647c7b9",
   "metadata": {},
   "outputs": [
    {
     "name": "stdout",
     "output_type": "stream",
     "text": [
      "member1이 또 작업함\n"
     ]
    }
   ],
   "source": [
    "print('member1이 또 작업함')"
   ]
  },
  {
   "cell_type": "code",
   "execution_count": 4,
   "id": "124bdc51-78d7-43d3-92a5-412aabdd55f9",
   "metadata": {},
   "outputs": [
    {
     "name": "stdout",
     "output_type": "stream",
     "text": [
      "아니오 잘 모그렜어요\n"
     ]
    }
   ],
   "source": [
    "print('아니오 잘 모그렜어요')"
   ]
  }
 ],
 "metadata": {
  "kernelspec": {
   "display_name": "Python 3 (ipykernel)",
   "language": "python",
   "name": "python3"
  },
  "language_info": {
   "codemirror_mode": {
    "name": "ipython",
    "version": 3
   },
   "file_extension": ".py",
   "mimetype": "text/x-python",
   "name": "python",
   "nbconvert_exporter": "python",
   "pygments_lexer": "ipython3",
   "version": "3.11.5"
  }
 },
 "nbformat": 4,
 "nbformat_minor": 5
}
