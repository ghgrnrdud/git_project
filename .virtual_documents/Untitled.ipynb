print("member1이 작업함")


print('member1이 또 작업함')


print('아니오 잘 모그렜어요')
