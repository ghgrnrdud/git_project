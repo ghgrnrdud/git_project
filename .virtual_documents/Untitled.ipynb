print("member1이 작업함")


print('member1이 또 작업함')


print("현재 내가 작업하고 잇음")


print("제가 지금 뭐하고 있는건가요")
